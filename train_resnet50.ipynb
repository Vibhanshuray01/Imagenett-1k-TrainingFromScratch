{
    "cells": [
     {
      "cell_type": "markdown",
      "metadata": {},
      "source": [
       "# ResNet50 Training on ImageNet-1k\n",
       "\n",
       "This notebook runs the training of ResNet50 on ImageNet with various optimizations."
      ]
     },
     {
      "cell_type": "code",
      "execution_count": null,
      "metadata": {},
      "source": [
       "import os\n",
       "import torch\n",
       "from IPython.display import display, HTML\n",
       "import pytorch_lightning as pl\n",
       "\n",
       "# Print system info\n",
       "print(f\"PyTorch version: {torch.__version__}\")\n",
       "print(f\"CUDA available: {torch.cuda.is_available()}\")\n",
       "if torch.cuda.is_available():\n",
       "    print(f\"CUDA device: {torch.cuda.get_device_name(0)}\")\n",
       "    print(f\"Number of GPUs: {torch.cuda.device_count()}\")"
      ]
     },
     {
      "cell_type": "markdown",
      "metadata": {},
      "source": [
       "## Configuration"
      ]
     },
     {
      "cell_type": "code",
      "execution_count": null,
      "metadata": {},
      "source": [
       "from src.config import TrainingConfig\n",
       "\n",
       "# Initialize config\n",
       "config = TrainingConfig()\n",
       "\n",
       "# Display current configuration\n",
       "for key, value in config.__dict__.items():\n",
       "    print(f\"{key}: {value}\")"
      ]
     },
     {
      "cell_type": "markdown",
      "metadata": {},
      "source": [
       "## Sanity Check\n",
       "\n",
       "First, let's run a sanity check with limited data to ensure everything works."
      ]
     },
     {
      "cell_type": "code",
      "execution_count": null,
      "metadata": {},
      "source": [
       "import sanity_check\n",
       "\n",
       "# Run sanity check\n",
       "print(\"Starting sanity check...\")\n",
       "sanity_check.main()"
      ]
     },
     {
      "cell_type": "markdown",
      "metadata": {},
      "source": [
       "## Full Training\n",
       "\n",
       "If the sanity check passes, we can proceed with full training."
      ]
     },
     {
      "cell_type": "code",
      "execution_count": null,
      "metadata": {},
      "source": [
       "# Uncomment to run full training\n",
       "# import train\n",
       "# train.main()"
      ]
     },
     {
      "cell_type": "markdown",
      "metadata": {},
      "source": [
       "## Monitor Training Progress\n",
       "\n",
       "You can monitor the training progress using TensorBoard."
      ]
     },
     {
      "cell_type": "code",
      "execution_count": null,
      "metadata": {},
      "source": [
       "# Load TensorBoard extension\n",
       "%load_ext tensorboard\n",
       "%tensorboard --logdir lightning_logs/"
      ]
     },
     {
      "cell_type": "markdown",
      "metadata": {},
      "source": [
       "## Check Latest Results\n",
       "\n",
       "After training, you can check the latest results and saved checkpoints."
      ]
     },
     {
      "cell_type": "code",
      "execution_count": null,
      "metadata": {},
      "source": [
       "import glob\n",
       "import os\n",
       "\n",
       "# Find latest checkpoint\n",
       "checkpoints = glob.glob('lightning_logs/version_*/checkpoints/*.ckpt')\n",
       "if checkpoints:\n",
       "    latest_checkpoint = max(checkpoints, key=os.path.getctime)\n",
       "    print(f\"Latest checkpoint: {latest_checkpoint}\")\n",
       "    \n",
       "    # Load checkpoint stats\n",
       "    checkpoint = torch.load(latest_checkpoint)\n",
       "    print(f\"\\nBest validation accuracy: {checkpoint['callbacks']['ModelCheckpoint']['best_model_score']:.2f}%\")\n",
       "    print(f\"Epoch: {checkpoint['epoch']}\")\n",
       "else:\n",
       "    print(\"No checkpoints found\")"
      ]
     }
    ],
    "metadata": {
     "kernelspec": {
      "display_name": "Python 3",
      "language": "python",
      "name": "python3"
     },
     "language_info": {
      "codemirror_mode": {
       "name": "ipython",
       "version": 3
      },
      "file_extension": ".py",
      "mimetype": "text/x-python",
      "name": "python",
      "nbconvert_exporter": "python",
      "pygments_lexer": "ipython3",
      "version": "3.8.0"
     }
    },
    "nbformat": 4,
    "nbformat_minor": 4
   }